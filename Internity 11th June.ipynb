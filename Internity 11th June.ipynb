{
 "cells": [
  {
   "cell_type": "code",
   "execution_count": 3,
   "metadata": {},
   "outputs": [
    {
     "name": "stdout",
     "output_type": "stream",
     "text": [
      "[23 45 44 56 96 76 88]\n"
     ]
    }
   ],
   "source": [
    "from numpy import *\n",
    "\n",
    "arr= array([23,45,44,56,96,76,88])\n",
    "\n",
    "print(arr)\n"
   ]
  },
  {
   "cell_type": "code",
   "execution_count": 5,
   "metadata": {},
   "outputs": [
    {
     "name": "stdout",
     "output_type": "stream",
     "text": [
      "float64\n"
     ]
    }
   ],
   "source": [
    "from numpy import *\n",
    "\n",
    "arr= array([23,56.65,54,55,34,66,23.56])\n",
    "print(arr.dtype)\n"
   ]
  },
  {
   "cell_type": "code",
   "execution_count": 7,
   "metadata": {},
   "outputs": [
    {
     "name": "stdout",
     "output_type": "stream",
     "text": [
      "int32\n"
     ]
    }
   ],
   "source": [
    "from numpy import *\n",
    "\n",
    "arr= array([3,5,6,8,90,44])\n",
    "print(arr.dtype)\n"
   ]
  },
  {
   "cell_type": "code",
   "execution_count": 10,
   "metadata": {},
   "outputs": [
    {
     "name": "stdout",
     "output_type": "stream",
     "text": [
      "[20.         20.70707071 21.41414141 22.12121212 22.82828283 23.53535354\n",
      " 24.24242424 24.94949495 25.65656566 26.36363636 27.07070707 27.77777778\n",
      " 28.48484848 29.19191919 29.8989899  30.60606061 31.31313131 32.02020202\n",
      " 32.72727273 33.43434343 34.14141414 34.84848485 35.55555556 36.26262626\n",
      " 36.96969697 37.67676768 38.38383838 39.09090909 39.7979798  40.50505051\n",
      " 41.21212121 41.91919192 42.62626263 43.33333333 44.04040404 44.74747475\n",
      " 45.45454545 46.16161616 46.86868687 47.57575758 48.28282828 48.98989899\n",
      " 49.6969697  50.4040404  51.11111111 51.81818182 52.52525253 53.23232323\n",
      " 53.93939394 54.64646465 55.35353535 56.06060606 56.76767677 57.47474747\n",
      " 58.18181818 58.88888889 59.5959596  60.3030303  61.01010101 61.71717172\n",
      " 62.42424242 63.13131313 63.83838384 64.54545455 65.25252525 65.95959596\n",
      " 66.66666667 67.37373737 68.08080808 68.78787879 69.49494949 70.2020202\n",
      " 70.90909091 71.61616162 72.32323232 73.03030303 73.73737374 74.44444444\n",
      " 75.15151515 75.85858586 76.56565657 77.27272727 77.97979798 78.68686869\n",
      " 79.39393939 80.1010101  80.80808081 81.51515152 82.22222222 82.92929293\n",
      " 83.63636364 84.34343434 85.05050505 85.75757576 86.46464646 87.17171717\n",
      " 87.87878788 88.58585859 89.29292929 90.        ]\n"
     ]
    }
   ],
   "source": [
    "#Function \n",
    "\n",
    "from numpy import *\n",
    "np= linspace(20,90,num=100)\n",
    "print(np)\n"
   ]
  },
  {
   "cell_type": "code",
   "execution_count": 11,
   "metadata": {},
   "outputs": [
    {
     "name": "stdout",
     "output_type": "stream",
     "text": [
      "[ 0  5 10 15 20 25 30 35 40 45 50 55 60 65 70 75]\n"
     ]
    }
   ],
   "source": [
    "from numpy import *\n",
    "np= arange(0,80,5)\n",
    "print (np)\n"
   ]
  },
  {
   "cell_type": "code",
   "execution_count": 12,
   "metadata": {},
   "outputs": [
    {
     "name": "stdout",
     "output_type": "stream",
     "text": [
      "[1.00000000e+20 1.29154967e+21 1.66810054e+22 2.15443469e+23\n",
      " 2.78255940e+24 3.59381366e+25 4.64158883e+26 5.99484250e+27\n",
      " 7.74263683e+28 1.00000000e+30]\n"
     ]
    }
   ],
   "source": [
    "from numpy import * \n",
    "np= logspace(20,30,10)\n",
    "print(np)\n"
   ]
  },
  {
   "cell_type": "code",
   "execution_count": 13,
   "metadata": {},
   "outputs": [
    {
     "name": "stdout",
     "output_type": "stream",
     "text": [
      "[0. 0. 0. 0. 0. 0. 0. 0. 0. 0. 0. 0. 0. 0. 0. 0. 0. 0. 0. 0. 0. 0. 0. 0.\n",
      " 0. 0. 0. 0. 0. 0. 0. 0. 0. 0. 0. 0. 0. 0. 0. 0.]\n"
     ]
    }
   ],
   "source": [
    "from numpy import *\n",
    "np= zeros(40)\n",
    "print(np)"
   ]
  },
  {
   "cell_type": "code",
   "execution_count": 14,
   "metadata": {},
   "outputs": [
    {
     "name": "stdout",
     "output_type": "stream",
     "text": [
      "[ 3  6 10 13]\n"
     ]
    }
   ],
   "source": [
    "from numpy import *\n",
    "np= array([1,2,4,5])\n",
    "ps= array([2,4,6,8])\n",
    "arr= np+ps\n",
    "print(arr)\n"
   ]
  },
  {
   "cell_type": "code",
   "execution_count": 23,
   "metadata": {},
   "outputs": [
    {
     "name": "stdout",
     "output_type": "stream",
     "text": [
      "[[2 5 8 9]\n",
      " [3 9 8 9]]\n",
      "2\n"
     ]
    }
   ],
   "source": [
    "from numpy import *\n",
    "np = array([ [2,5,8,9],\n",
    "  [3,9,8,9]\n",
    "           ]) \n",
    "print(np)\n",
    "\n",
    "print(np.ndim)\n",
    "\n",
    "\n"
   ]
  }
 ],
 "metadata": {
  "kernelspec": {
   "display_name": "Python 3",
   "language": "python",
   "name": "python3"
  },
  "language_info": {
   "codemirror_mode": {
    "name": "ipython",
    "version": 3
   },
   "file_extension": ".py",
   "mimetype": "text/x-python",
   "name": "python",
   "nbconvert_exporter": "python",
   "pygments_lexer": "ipython3",
   "version": "3.7.0"
  }
 },
 "nbformat": 4,
 "nbformat_minor": 2
}
